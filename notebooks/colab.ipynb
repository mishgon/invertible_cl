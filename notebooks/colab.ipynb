{
  "cells": [
    {
      "cell_type": "code",
      "execution_count": 2,
      "metadata": {
        "colab": {
          "base_uri": "https://localhost:8080/"
        },
        "id": "cdonYkuqUkVH",
        "outputId": "e93590bc-dcc8-4986-90fa-2b58a88d91ad"
      },
      "outputs": [
        {
          "name": "stdout",
          "output_type": "stream",
          "text": [
            "Mounted at /content/drive\n"
          ]
        }
      ],
      "source": [
        "from google.colab import drive\n",
        "drive.mount('/content/drive')"
      ]
    },
    {
      "cell_type": "code",
      "execution_count": 21,
      "metadata": {
        "id": "QkoLttHYVGNK"
      },
      "outputs": [],
      "source": [
        "# run this cell to create a home directory where all repos will be cloned\n",
        "\n",
        "%%bash\n",
        "cd /content/drive/MyDrive/\n",
        "mkdir -p home"
      ]
    },
    {
      "cell_type": "code",
      "execution_count": null,
      "metadata": {
        "id": "As-HSTlfX4Ac"
      },
      "outputs": [],
      "source": [
        "# run this cell to clone and install the invertible_cl repo\n",
        "\n",
        "%%bash\n",
        "cd /content/drive/MyDrive/home\n",
        "if [ ! -d \"invertible_cl\" ]; then\n",
        "  git clone https://github.com/mishgon/invertible_cl.git\n",
        "fi\n",
        "cd invertible_cl\n",
        "pip install -e ."
      ]
    },
    {
      "cell_type": "code",
      "execution_count": 24,
      "metadata": {
        "colab": {
          "base_uri": "https://localhost:8080/"
        },
        "id": "dujZeOXAVSAv",
        "outputId": "42ab42d8-a86b-4222-bdb5-1c7e2a48ff1a"
      },
      "outputs": [
        {
          "name": "stdout",
          "output_type": "stream",
          "text": [
            "Already up to date.\n",
            "Obtaining file:///content/drive/MyDrive/home/invertible_cl\n",
            "  Preparing metadata (setup.py): started\n",
            "  Preparing metadata (setup.py): finished with status 'done'\n",
            "Requirement already satisfied: pytorch_lightning==1.9.5 in /usr/local/lib/python3.10/dist-packages (from invertible-cl==0.0.1) (1.9.5)\n",
            "Requirement already satisfied: lightning-bolts==0.7.0 in /usr/local/lib/python3.10/dist-packages (from invertible-cl==0.0.1) (0.7.0)\n",
            "Requirement already satisfied: torchmetrics>=1.2.0 in /usr/local/lib/python3.10/dist-packages (from invertible-cl==0.0.1) (1.2.0)\n",
            "Requirement already satisfied: tensorboard==2.14.0 in /usr/local/lib/python3.10/dist-packages (from invertible-cl==0.0.1) (2.14.0)\n",
            "Requirement already satisfied: timm>=0.9.10 in /usr/local/lib/python3.10/dist-packages (from invertible-cl==0.0.1) (0.9.10)\n",
            "Requirement already satisfied: numpy in /usr/local/lib/python3.10/dist-packages (from lightning-bolts==0.7.0->invertible-cl==0.0.1) (1.23.5)\n",
            "Requirement already satisfied: lightning-utilities>0.3.1 in /usr/local/lib/python3.10/dist-packages (from lightning-bolts==0.7.0->invertible-cl==0.0.1) (0.9.0)\n",
            "Requirement already satisfied: torchvision>=0.10.0 in /usr/local/lib/python3.10/dist-packages (from lightning-bolts==0.7.0->invertible-cl==0.0.1) (0.16.0+cu118)\n",
            "Requirement already satisfied: torch>=1.10.0 in /usr/local/lib/python3.10/dist-packages (from pytorch_lightning==1.9.5->invertible-cl==0.0.1) (2.1.0+cu118)\n",
            "Requirement already satisfied: tqdm>=4.57.0 in /usr/local/lib/python3.10/dist-packages (from pytorch_lightning==1.9.5->invertible-cl==0.0.1) (4.66.1)\n",
            "Requirement already satisfied: PyYAML>=5.4 in /usr/local/lib/python3.10/dist-packages (from pytorch_lightning==1.9.5->invertible-cl==0.0.1) (6.0.1)\n",
            "Requirement already satisfied: fsspec[http]>2021.06.0 in /usr/local/lib/python3.10/dist-packages (from pytorch_lightning==1.9.5->invertible-cl==0.0.1) (2023.6.0)\n",
            "Requirement already satisfied: packaging>=17.1 in /usr/local/lib/python3.10/dist-packages (from pytorch_lightning==1.9.5->invertible-cl==0.0.1) (23.2)\n",
            "Requirement already satisfied: typing-extensions>=4.0.0 in /usr/local/lib/python3.10/dist-packages (from pytorch_lightning==1.9.5->invertible-cl==0.0.1) (4.5.0)\n",
            "Requirement already satisfied: absl-py>=0.4 in /usr/local/lib/python3.10/dist-packages (from tensorboard==2.14.0->invertible-cl==0.0.1) (1.4.0)\n",
            "Requirement already satisfied: grpcio>=1.48.2 in /usr/local/lib/python3.10/dist-packages (from tensorboard==2.14.0->invertible-cl==0.0.1) (1.59.0)\n",
            "Requirement already satisfied: google-auth<3,>=1.6.3 in /usr/local/lib/python3.10/dist-packages (from tensorboard==2.14.0->invertible-cl==0.0.1) (2.17.3)\n",
            "Requirement already satisfied: google-auth-oauthlib<1.1,>=0.5 in /usr/local/lib/python3.10/dist-packages (from tensorboard==2.14.0->invertible-cl==0.0.1) (1.0.0)\n",
            "Requirement already satisfied: markdown>=2.6.8 in /usr/local/lib/python3.10/dist-packages (from tensorboard==2.14.0->invertible-cl==0.0.1) (3.5)\n",
            "Requirement already satisfied: protobuf>=3.19.6 in /usr/local/lib/python3.10/dist-packages (from tensorboard==2.14.0->invertible-cl==0.0.1) (3.20.3)\n",
            "Requirement already satisfied: requests<3,>=2.21.0 in /usr/local/lib/python3.10/dist-packages (from tensorboard==2.14.0->invertible-cl==0.0.1) (2.31.0)\n",
            "Requirement already satisfied: setuptools>=41.0.0 in /usr/local/lib/python3.10/dist-packages (from tensorboard==2.14.0->invertible-cl==0.0.1) (67.7.2)\n",
            "Requirement already satisfied: tensorboard-data-server<0.8.0,>=0.7.0 in /usr/local/lib/python3.10/dist-packages (from tensorboard==2.14.0->invertible-cl==0.0.1) (0.7.2)\n",
            "Requirement already satisfied: werkzeug>=1.0.1 in /usr/local/lib/python3.10/dist-packages (from tensorboard==2.14.0->invertible-cl==0.0.1) (3.0.1)\n",
            "Requirement already satisfied: wheel>=0.26 in /usr/local/lib/python3.10/dist-packages (from tensorboard==2.14.0->invertible-cl==0.0.1) (0.41.2)\n",
            "Requirement already satisfied: huggingface-hub in /usr/local/lib/python3.10/dist-packages (from timm>=0.9.10->invertible-cl==0.0.1) (0.18.0)\n",
            "Requirement already satisfied: safetensors in /usr/local/lib/python3.10/dist-packages (from timm>=0.9.10->invertible-cl==0.0.1) (0.4.0)\n",
            "Requirement already satisfied: aiohttp!=4.0.0a0,!=4.0.0a1 in /usr/local/lib/python3.10/dist-packages (from fsspec[http]>2021.06.0->pytorch_lightning==1.9.5->invertible-cl==0.0.1) (3.8.6)\n",
            "Requirement already satisfied: cachetools<6.0,>=2.0.0 in /usr/local/lib/python3.10/dist-packages (from google-auth<3,>=1.6.3->tensorboard==2.14.0->invertible-cl==0.0.1) (5.3.2)\n",
            "Requirement already satisfied: pyasn1-modules>=0.2.1 in /usr/local/lib/python3.10/dist-packages (from google-auth<3,>=1.6.3->tensorboard==2.14.0->invertible-cl==0.0.1) (0.3.0)\n",
            "Requirement already satisfied: six>=1.9.0 in /usr/local/lib/python3.10/dist-packages (from google-auth<3,>=1.6.3->tensorboard==2.14.0->invertible-cl==0.0.1) (1.16.0)\n",
            "Requirement already satisfied: rsa<5,>=3.1.4 in /usr/local/lib/python3.10/dist-packages (from google-auth<3,>=1.6.3->tensorboard==2.14.0->invertible-cl==0.0.1) (4.9)\n",
            "Requirement already satisfied: requests-oauthlib>=0.7.0 in /usr/local/lib/python3.10/dist-packages (from google-auth-oauthlib<1.1,>=0.5->tensorboard==2.14.0->invertible-cl==0.0.1) (1.3.1)\n",
            "Requirement already satisfied: charset-normalizer<4,>=2 in /usr/local/lib/python3.10/dist-packages (from requests<3,>=2.21.0->tensorboard==2.14.0->invertible-cl==0.0.1) (3.3.1)\n",
            "Requirement already satisfied: idna<4,>=2.5 in /usr/local/lib/python3.10/dist-packages (from requests<3,>=2.21.0->tensorboard==2.14.0->invertible-cl==0.0.1) (3.4)\n",
            "Requirement already satisfied: urllib3<3,>=1.21.1 in /usr/local/lib/python3.10/dist-packages (from requests<3,>=2.21.0->tensorboard==2.14.0->invertible-cl==0.0.1) (2.0.7)\n",
            "Requirement already satisfied: certifi>=2017.4.17 in /usr/local/lib/python3.10/dist-packages (from requests<3,>=2.21.0->tensorboard==2.14.0->invertible-cl==0.0.1) (2023.7.22)\n",
            "Requirement already satisfied: filelock in /usr/local/lib/python3.10/dist-packages (from torch>=1.10.0->pytorch_lightning==1.9.5->invertible-cl==0.0.1) (3.12.4)\n",
            "Requirement already satisfied: sympy in /usr/local/lib/python3.10/dist-packages (from torch>=1.10.0->pytorch_lightning==1.9.5->invertible-cl==0.0.1) (1.12)\n",
            "Requirement already satisfied: networkx in /usr/local/lib/python3.10/dist-packages (from torch>=1.10.0->pytorch_lightning==1.9.5->invertible-cl==0.0.1) (3.2)\n",
            "Requirement already satisfied: jinja2 in /usr/local/lib/python3.10/dist-packages (from torch>=1.10.0->pytorch_lightning==1.9.5->invertible-cl==0.0.1) (3.1.2)\n",
            "Requirement already satisfied: triton==2.1.0 in /usr/local/lib/python3.10/dist-packages (from torch>=1.10.0->pytorch_lightning==1.9.5->invertible-cl==0.0.1) (2.1.0)\n",
            "Requirement already satisfied: pillow!=8.3.*,>=5.3.0 in /usr/local/lib/python3.10/dist-packages (from torchvision>=0.10.0->lightning-bolts==0.7.0->invertible-cl==0.0.1) (9.4.0)\n",
            "Requirement already satisfied: MarkupSafe>=2.1.1 in /usr/local/lib/python3.10/dist-packages (from werkzeug>=1.0.1->tensorboard==2.14.0->invertible-cl==0.0.1) (2.1.3)\n",
            "Requirement already satisfied: attrs>=17.3.0 in /usr/local/lib/python3.10/dist-packages (from aiohttp!=4.0.0a0,!=4.0.0a1->fsspec[http]>2021.06.0->pytorch_lightning==1.9.5->invertible-cl==0.0.1) (23.1.0)\n",
            "Requirement already satisfied: multidict<7.0,>=4.5 in /usr/local/lib/python3.10/dist-packages (from aiohttp!=4.0.0a0,!=4.0.0a1->fsspec[http]>2021.06.0->pytorch_lightning==1.9.5->invertible-cl==0.0.1) (6.0.4)\n",
            "Requirement already satisfied: async-timeout<5.0,>=4.0.0a3 in /usr/local/lib/python3.10/dist-packages (from aiohttp!=4.0.0a0,!=4.0.0a1->fsspec[http]>2021.06.0->pytorch_lightning==1.9.5->invertible-cl==0.0.1) (4.0.3)\n",
            "Requirement already satisfied: yarl<2.0,>=1.0 in /usr/local/lib/python3.10/dist-packages (from aiohttp!=4.0.0a0,!=4.0.0a1->fsspec[http]>2021.06.0->pytorch_lightning==1.9.5->invertible-cl==0.0.1) (1.9.2)\n",
            "Requirement already satisfied: frozenlist>=1.1.1 in /usr/local/lib/python3.10/dist-packages (from aiohttp!=4.0.0a0,!=4.0.0a1->fsspec[http]>2021.06.0->pytorch_lightning==1.9.5->invertible-cl==0.0.1) (1.4.0)\n",
            "Requirement already satisfied: aiosignal>=1.1.2 in /usr/local/lib/python3.10/dist-packages (from aiohttp!=4.0.0a0,!=4.0.0a1->fsspec[http]>2021.06.0->pytorch_lightning==1.9.5->invertible-cl==0.0.1) (1.3.1)\n",
            "Requirement already satisfied: pyasn1<0.6.0,>=0.4.6 in /usr/local/lib/python3.10/dist-packages (from pyasn1-modules>=0.2.1->google-auth<3,>=1.6.3->tensorboard==2.14.0->invertible-cl==0.0.1) (0.5.0)\n",
            "Requirement already satisfied: oauthlib>=3.0.0 in /usr/local/lib/python3.10/dist-packages (from requests-oauthlib>=0.7.0->google-auth-oauthlib<1.1,>=0.5->tensorboard==2.14.0->invertible-cl==0.0.1) (3.2.2)\n",
            "Requirement already satisfied: mpmath>=0.19 in /usr/local/lib/python3.10/dist-packages (from sympy->torch>=1.10.0->pytorch_lightning==1.9.5->invertible-cl==0.0.1) (1.3.0)\n",
            "Installing collected packages: invertible-cl\n",
            "  Attempting uninstall: invertible-cl\n",
            "    Found existing installation: invertible-cl 0.0.1\n",
            "    Uninstalling invertible-cl-0.0.1:\n",
            "      Successfully uninstalled invertible-cl-0.0.1\n",
            "  Running setup.py develop for invertible-cl\n",
            "Successfully installed invertible-cl-0.0.1\n"
          ]
        }
      ],
      "source": [
        "# run this cell to update (pull) and reinstall the invertible_cl repo\n",
        "\n",
        "%%bash\n",
        "cd /content/drive/MyDrive/home/invertible_cl\n",
        "git pull\n",
        "pip install -e ."
      ]
    },
    {
      "cell_type": "code",
      "execution_count": 2,
      "metadata": {
        "id": "j5ZC8kImWGwu"
      },
      "outputs": [],
      "source": [
        "# try restarting the notebook if some imports do not work\n",
        "\n",
        "import pytorch_lightning as pl\n",
        "from pytorch_lightning.loggers import TensorBoardLogger\n",
        "from pytorch_lightning.callbacks import LearningRateMonitor\n",
        "\n",
        "from invertible_cl.pretrain.data import CIFAR10\n",
        "from invertible_cl.pretrain.models import VICReg\n",
        "from invertible_cl.eval.models.probing import OnlineProbing"
      ]
    },
    {
      "cell_type": "code",
      "execution_count": null,
      "metadata": {
        "id": "W2bIKrtiajXC"
      },
      "outputs": [],
      "source": [
        "batch_size = 256\n",
        "lr = 1e-2 * batch_size / 256  # change lr proportionally to batch size\n",
        "num_epochs = 1000\n",
        "\n",
        "datamodule = CIFAR10(\n",
        "    data_dir='/content/drive/data/cifar10/',\n",
        "    batch_size=batch_size,\n",
        "    num_workers=8\n",
        ")\n",
        "\n",
        "model = VICReg(\n",
        "    encoder='resnet18_32x32',\n",
        "    proj_dim=4096,\n",
        "    lr=lr\n",
        ")\n",
        "\n",
        "callbacks = [\n",
        "    OnlineProbing(\n",
        "        embed_dim=model.embed_dim,\n",
        "        num_classes=datamodule.num_classes\n",
        "    ),\n",
        "    LearningRateMonitor()\n",
        "]\n",
        "\n",
        "logger = TensorBoardLogger(\n",
        "    save_dir='/content/drive/experiments/',\n",
        "    name=f'pretrain/cifar10/vicreg/'\n",
        ")\n",
        "\n",
        "trainer = pl.Trainer(\n",
        "    logger=logger,\n",
        "    callbacks=callbacks,\n",
        "    accelerator='gpu',\n",
        "    max_epochs=num_epochs,\n",
        "    gradient_clip_val=1.0,\n",
        "    log_every_n_steps=10\n",
        ")\n",
        "\n",
        "trainer.fit(\n",
        "    model=model,\n",
        "    datamodule=datamodule\n",
        ")\n"
      ]
    }
  ],
  "metadata": {
    "colab": {
      "provenance": []
    },
    "kernelspec": {
      "display_name": "Python 3",
      "name": "python3"
    },
    "language_info": {
      "name": "python"
    }
  },
  "nbformat": 4,
  "nbformat_minor": 0
}
