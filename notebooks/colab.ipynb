{
 "cells": [
  {
   "cell_type": "code",
   "execution_count": 1,
   "metadata": {
    "colab": {
     "base_uri": "https://localhost:8080/"
    },
    "id": "cdonYkuqUkVH",
    "outputId": "30ccf7e8-d0f7-42a4-b912-1d6f645978fc"
   },
   "outputs": [
    {
     "name": "stdout",
     "output_type": "stream",
     "text": [
      "Drive already mounted at /content/drive; to attempt to forcibly remount, call drive.mount(\"/content/drive\", force_remount=True).\n"
     ]
    }
   ],
   "source": [
    "from google.colab import drive\n",
    "drive.mount('/content/drive')"
   ]
  },
  {
   "cell_type": "code",
   "execution_count": 5,
   "metadata": {
    "id": "QkoLttHYVGNK"
   },
   "outputs": [],
   "source": [
    "# run this cell to create a home directory where all repos will be cloned\n",
    "\n",
    "%%bash\n",
    "cd /content/drive/MyDrive/\n",
    "mkdir -p home"
   ]
  },
  {
   "cell_type": "code",
   "execution_count": 6,
   "metadata": {
    "colab": {
     "base_uri": "https://localhost:8080/"
    },
    "id": "As-HSTlfX4Ac",
    "outputId": "80a1a429-e965-4685-e8f6-5dea913cbb3a"
   },
   "outputs": [
    {
     "name": "stdout",
     "output_type": "stream",
     "text": [
      "invertible_cl\n"
     ]
    }
   ],
   "source": [
    "# run this cell to clone and install the invertible_cl repo\n",
    "\n",
    "%%bash\n",
    "cd /content/drive/MyDrive/home/\n",
    "if [ ! -d \"invertible_cl\" ]; then\n",
    "  git clone https://github.com/mishgon/invertible_cl.git\n",
    "fi\n",
    "cd invertible_cl\n",
    "pip install -e ."
   ]
  },
  {
   "cell_type": "code",
   "execution_count": 10,
   "metadata": {
    "colab": {
     "base_uri": "https://localhost:8080/"
    },
    "id": "dujZeOXAVSAv",
    "outputId": "0944d757-9627-4ed7-c7b5-8163983264a0"
   },
   "outputs": [
    {
     "name": "stdout",
     "output_type": "stream",
     "text": [
      "Already up to date.\n"
     ]
    }
   ],
   "source": [
    "# run this cell to update (pull) the invertible_cl repo\n",
    "\n",
    "%%bash\n",
    "cd /content/drive/MyDrive/home/invertible_cl\n",
    "git pull"
   ]
  },
  {
   "cell_type": "code",
   "execution_count": null,
   "metadata": {
    "id": "cSKDjJZ9yHF-"
   },
   "outputs": [],
   "source": [
    "# run this cell to reinstall the invertible_cl repo (use only when reqs are changed)\n",
    "%%bash\n",
    "cd /content/drive/MyDrive/home/invertible_cl\n",
    "pip install -e ."
   ]
  },
  {
   "cell_type": "code",
   "execution_count": 1,
   "metadata": {
    "colab": {
     "base_uri": "https://localhost:8080/"
    },
    "id": "j5ZC8kImWGwu",
    "outputId": "35f34f9c-1541-4f72-9172-2b6d9a1f7060"
   },
   "outputs": [
    {
     "name": "stderr",
     "output_type": "stream",
     "text": [
      "/homes/mgoncharov/miniconda3/envs/pl-bolts/lib/python3.11/site-packages/pl_bolts/__init__.py:11: FutureWarning: In the future `np.object` will be defined as the corresponding NumPy scalar.\n",
      "  if not hasattr(numpy, tp_name):\n",
      "/homes/mgoncharov/miniconda3/envs/pl-bolts/lib/python3.11/site-packages/pl_bolts/__init__.py:11: FutureWarning: In the future `np.bool` will be defined as the corresponding NumPy scalar.\n",
      "  if not hasattr(numpy, tp_name):\n",
      "/homes/mgoncharov/miniconda3/envs/pl-bolts/lib/python3.11/site-packages/pl_bolts/models/self_supervised/amdim/amdim_module.py:34: UnderReviewWarning: The feature generate_power_seq is currently marked under review. The compatibility with other Lightning projects is not guaranteed and API may change at any time. The API and functionality may change without warning in future releases. More details: https://lightning-bolts.readthedocs.io/en/latest/stability.html\n",
      "  \"lr_options\": generate_power_seq(LEARNING_RATE_CIFAR, 11),\n",
      "/homes/mgoncharov/miniconda3/envs/pl-bolts/lib/python3.11/site-packages/pl_bolts/models/self_supervised/amdim/amdim_module.py:92: UnderReviewWarning: The feature FeatureMapContrastiveTask is currently marked under review. The compatibility with other Lightning projects is not guaranteed and API may change at any time. The API and functionality may change without warning in future releases. More details: https://lightning-bolts.readthedocs.io/en/latest/stability.html\n",
      "  contrastive_task: Union[FeatureMapContrastiveTask] = FeatureMapContrastiveTask(\"01, 02, 11\"),\n",
      "/homes/mgoncharov/miniconda3/envs/pl-bolts/lib/python3.11/site-packages/pl_bolts/losses/self_supervised_learning.py:228: UnderReviewWarning: The feature AmdimNCELoss is currently marked under review. The compatibility with other Lightning projects is not guaranteed and API may change at any time. The API and functionality may change without warning in future releases. More details: https://lightning-bolts.readthedocs.io/en/latest/stability.html\n",
      "  self.nce_loss = AmdimNCELoss(tclip)\n"
     ]
    }
   ],
   "source": [
    "# try restarting the notebook if some imports do not work\n",
    "\n",
    "from pathlib import Path\n",
    "\n",
    "import pytorch_lightning as pl\n",
    "from pytorch_lightning.loggers import TensorBoardLogger\n",
    "from pytorch_lightning.callbacks import LearningRateMonitor\n",
    "\n",
    "from invertible_cl.pretrain.data import CIFAR10\n",
    "from invertible_cl.pretrain.models import SimCLR\n",
    "from invertible_cl.eval.models.probing import OnlineProbing\n",
    "\n",
    "\n",
    "drive_root = Path('/content/drive/MyDrive')\n",
    "data_root = drive_root / 'data'\n",
    "exp_root = drive_root / 'experiments/invertible_cl'\n",
    "repo_root = drive_root / 'home/invertible_cl'"
   ]
  },
  {
   "cell_type": "code",
   "execution_count": 2,
   "metadata": {
    "id": "GLb0rOmJypJY"
   },
   "outputs": [],
   "source": [
    "# hyperparams\n",
    "\n",
    "batch_size = 256\n",
    "lr = 1e-2 * batch_size / 256  # change lr proportionally to batch size\n",
    "num_epochs = 1000"
   ]
  },
  {
   "cell_type": "code",
   "execution_count": 13,
   "metadata": {
    "colab": {
     "base_uri": "https://localhost:8080/"
    },
    "id": "W2bIKrtiajXC",
    "outputId": "bf3bb3c4-bf22-4a91-a53b-5b933a62ba20"
   },
   "outputs": [
    {
     "name": "stderr",
     "output_type": "stream",
     "text": [
      "/usr/local/lib/python3.10/dist-packages/ipykernel/ipkernel.py:283: DeprecationWarning: `should_run_async` will not call `transform_cell` automatically in the future. Please pass the result to `transformed_cell` argument and any exception that happen during thetransform in `preprocessing_exc_tuple` in IPython 7.17 and above.\n",
      "  and should_run_async(code)\n"
     ]
    }
   ],
   "source": [
    "datamodule = CIFAR10(\n",
    "    data_dir=data_root / 'cifar10',\n",
    "    batch_size=batch_size,\n",
    "    num_workers=8\n",
    ")"
   ]
  },
  {
   "cell_type": "code",
   "execution_count": 22,
   "metadata": {
    "colab": {
     "base_uri": "https://localhost:8080/"
    },
    "id": "gGSP3h8PyuKE",
    "outputId": "5bbbecda-59f0-4eae-8b1d-31884a59ecae"
   },
   "outputs": [
    {
     "name": "stdout",
     "output_type": "stream",
     "text": [
      "Files already downloaded and verified\n",
      "Files already downloaded and verified\n"
     ]
    }
   ],
   "source": [
    "datamodule.prepare_data()"
   ]
  },
  {
   "cell_type": "code",
   "execution_count": null,
   "metadata": {
    "colab": {
     "base_uri": "https://localhost:8080/",
     "height": 491
    },
    "id": "ZBXVL22_ymff",
    "outputId": "16750539-db6e-4eca-a4f3-af07293847f8"
   },
   "outputs": [],
   "source": [
    "model = SimCLR(\n",
    "    encoder_architecture='resnet18_32x32',\n",
    "    lr=lr\n",
    ")\n",
    "\n",
    "callbacks = [\n",
    "    OnlineProbing(\n",
    "        embed_dim=model.embed_dim,\n",
    "        num_classes=datamodule.num_classes\n",
    "    ),\n",
    "    LearningRateMonitor()\n",
    "]\n",
    "\n",
    "logger = TensorBoardLogger(\n",
    "    save_dir=exp_root,\n",
    "    name=f'pretrain/cifar10/simclr/'\n",
    ")\n",
    "\n",
    "trainer = pl.Trainer(\n",
    "    logger=logger,\n",
    "    callbacks=callbacks,\n",
    "    accelerator='gpu',\n",
    "    max_epochs=num_epochs,\n",
    "    gradient_clip_val=1.0,\n",
    "    log_every_n_steps=10\n",
    ")\n",
    "\n",
    "trainer.fit(\n",
    "    model=model,\n",
    "    datamodule=datamodule\n",
    ")"
   ]
  },
  {
   "cell_type": "markdown",
   "metadata": {
    "id": "y7sC1MOz4A7M"
   },
   "source": [
    "See https://colab.research.google.com/github/tensorflow/tensorboard/blob/master/docs/tensorboard_in_notebooks.ipynb for using tensorboard in colab"
   ]
  }
 ],
 "metadata": {
  "colab": {
   "provenance": []
  },
  "kernelspec": {
   "display_name": "Python 3 (ipykernel)",
   "language": "python",
   "name": "python3"
  },
  "language_info": {
   "codemirror_mode": {
    "name": "ipython",
    "version": 3
   },
   "file_extension": ".py",
   "mimetype": "text/x-python",
   "name": "python",
   "nbconvert_exporter": "python",
   "pygments_lexer": "ipython3",
   "version": "3.11.5"
  }
 },
 "nbformat": 4,
 "nbformat_minor": 4
}
